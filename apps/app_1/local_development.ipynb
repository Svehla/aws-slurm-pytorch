{
 "cells": [
  {
   "cell_type": "markdown",
   "metadata": {},
   "source": [
    "1. Local development \n",
    "2. move into GPU EC2 node\n",
    "3. Add DDP"
   ]
  },
  {
   "cell_type": "code",
   "execution_count": 1,
   "metadata": {},
   "outputs": [],
   "source": [
    "# TODO: move local environment into ./app folder\n",
    "# TODO: activate venv somehow\n",
    "# enable importing python files without caching them\n",
    "%load_ext autoreload\n",
    "%autoreload 2"
   ]
  },
  {
   "cell_type": "code",
   "execution_count": 2,
   "metadata": {},
   "outputs": [
    {
     "name": "stdout",
     "output_type": "stream",
     "text": [
      "\u001b[92m[prepare_app_env]\u001b[0m\n",
      "\u001b[92m[prepare_app_env]\u001b[0m\u001b[90m:~$ \u001b[0m\u001b[93mpython3 -m venv ../venv-app/\u001b[0m\n",
      "\u001b[92m[prepare_app_env]\u001b[0m\n",
      "\u001b[92m[prepare_app_env]\u001b[0m\u001b[90m:~$ \u001b[0m\u001b[93m. ../venv-app/bin/activate && pip3 install -r ./requirements.txt\u001b[0m\n",
      "\u001b[92m[prepare_app_env]\u001b[0m Collecting requests==2.31.0 (from -r ./requirements.txt (line 1))\n",
      "\u001b[92m[prepare_app_env]\u001b[0m   Obtaining dependency information for requests==2.31.0 from https://files.pythonhosted.org/packages/70/8e/0e2d847013cb52cd35b38c009bb167a1a26b2ce6cd6965bf26b47bc0bf44/requests-2.31.0-py3-none-any.whl.metadata\n",
      "\u001b[92m[prepare_app_env]\u001b[0m   Using cached requests-2.31.0-py3-none-any.whl.metadata (4.6 kB)\n",
      "\u001b[92m[prepare_app_env]\u001b[0m Collecting torch==2.0.1 (from -r ./requirements.txt (line 2))\n",
      "\u001b[92m[prepare_app_env]\u001b[0m   Using cached torch-2.0.1-cp311-none-macosx_11_0_arm64.whl (55.8 MB)\n",
      "\u001b[92m[prepare_app_env]\u001b[0m Collecting torchvision==0.15.2 (from -r ./requirements.txt (line 3))\n",
      "\u001b[92m[prepare_app_env]\u001b[0m   Using cached torchvision-0.15.2-cp311-cp311-macosx_11_0_arm64.whl (1.4 MB)\n",
      "\u001b[92m[prepare_app_env]\u001b[0m Collecting boto3==1.28.33 (from -r ./requirements.txt (line 4))\n",
      "\u001b[92m[prepare_app_env]\u001b[0m   Obtaining dependency information for boto3==1.28.33 from https://files.pythonhosted.org/packages/8c/64/bdc3f64273d27f27bf0a082de64be341109b4ce664d95ebd77c16cfd40b2/boto3-1.28.33-py3-none-any.whl.metadata\n",
      "\u001b[92m[prepare_app_env]\u001b[0m   Using cached boto3-1.28.33-py3-none-any.whl.metadata (6.7 kB)\n",
      "\u001b[92m[prepare_app_env]\u001b[0m Collecting tensorboard==2.14.0 (from -r ./requirements.txt (line 6))\n",
      "\u001b[92m[prepare_app_env]\u001b[0m   Obtaining dependency information for tensorboard==2.14.0 from https://files.pythonhosted.org/packages/bc/a2/ff5f4c299eb37c95299a76015da3f30211468e29d8d6f1d011683279baee/tensorboard-2.14.0-py3-none-any.whl.metadata\n",
      "\u001b[92m[prepare_app_env]\u001b[0m   Using cached tensorboard-2.14.0-py3-none-any.whl.metadata (1.8 kB)\n",
      "\u001b[92m[prepare_app_env]\u001b[0m Collecting numpy==1.24.4 (from -r ./requirements.txt (line 7))\n",
      "\u001b[92m[prepare_app_env]\u001b[0m   Obtaining dependency information for numpy==1.24.4 from https://files.pythonhosted.org/packages/c0/bc/77635c657a3668cf652806210b8662e1aff84b818a55ba88257abf6637a8/numpy-1.24.4-cp311-cp311-macosx_11_0_arm64.whl.metadata\n",
      "\u001b[92m[prepare_app_env]\u001b[0m   Using cached numpy-1.24.4-cp311-cp311-macosx_11_0_arm64.whl.metadata (5.6 kB)\n",
      "\u001b[92m[prepare_app_env]\u001b[0m Collecting charset-normalizer<4,>=2 (from requests==2.31.0->-r ./requirements.txt (line 1))\n",
      "\u001b[92m[prepare_app_env]\u001b[0m   Obtaining dependency information for charset-normalizer<4,>=2 from https://files.pythonhosted.org/packages/91/e6/8fa919fc84a106e9b04109de62bdf8526899e2754a64da66e1cd50ac1faa/charset_normalizer-3.2.0-cp311-cp311-macosx_11_0_arm64.whl.metadata\n",
      "\u001b[92m[prepare_app_env]\u001b[0m   Using cached charset_normalizer-3.2.0-cp311-cp311-macosx_11_0_arm64.whl.metadata (31 kB)\n",
      "\u001b[92m[prepare_app_env]\u001b[0m Collecting idna<4,>=2.5 (from requests==2.31.0->-r ./requirements.txt (line 1))\n",
      "\u001b[92m[prepare_app_env]\u001b[0m   Using cached idna-3.4-py3-none-any.whl (61 kB)\n",
      "\u001b[92m[prepare_app_env]\u001b[0m Collecting urllib3<3,>=1.21.1 (from requests==2.31.0->-r ./requirements.txt (line 1))\n",
      "\u001b[92m[prepare_app_env]\u001b[0m   Obtaining dependency information for urllib3<3,>=1.21.1 from https://files.pythonhosted.org/packages/9b/81/62fd61001fa4b9d0df6e31d47ff49cfa9de4af03adecf339c7bc30656b37/urllib3-2.0.4-py3-none-any.whl.metadata\n",
      "\u001b[92m[prepare_app_env]\u001b[0m   Using cached urllib3-2.0.4-py3-none-any.whl.metadata (6.6 kB)\n",
      "\u001b[92m[prepare_app_env]\u001b[0m Collecting certifi>=2017.4.17 (from requests==2.31.0->-r ./requirements.txt (line 1))\n",
      "\u001b[92m[prepare_app_env]\u001b[0m   Obtaining dependency information for certifi>=2017.4.17 from https://files.pythonhosted.org/packages/4c/dd/2234eab22353ffc7d94e8d13177aaa050113286e93e7b40eae01fbf7c3d9/certifi-2023.7.22-py3-none-any.whl.metadata\n",
      "\u001b[92m[prepare_app_env]\u001b[0m   Using cached certifi-2023.7.22-py3-none-any.whl.metadata (2.2 kB)\n",
      "\u001b[92m[prepare_app_env]\u001b[0m Collecting filelock (from torch==2.0.1->-r ./requirements.txt (line 2))\n",
      "\u001b[92m[prepare_app_env]\u001b[0m   Obtaining dependency information for filelock from https://files.pythonhosted.org/packages/52/90/45223db4e1df30ff14e8aebf9a1bf0222da2e7b49e53692c968f36817812/filelock-3.12.3-py3-none-any.whl.metadata\n",
      "\u001b[92m[prepare_app_env]\u001b[0m   Using cached filelock-3.12.3-py3-none-any.whl.metadata (2.7 kB)\n",
      "\u001b[92m[prepare_app_env]\u001b[0m Collecting typing-extensions (from torch==2.0.1->-r ./requirements.txt (line 2))\n",
      "\u001b[92m[prepare_app_env]\u001b[0m   Obtaining dependency information for typing-extensions from https://files.pythonhosted.org/packages/ec/6b/63cc3df74987c36fe26157ee12e09e8f9db4de771e0f3404263117e75b95/typing_extensions-4.7.1-py3-none-any.whl.metadata\n",
      "\u001b[92m[prepare_app_env]\u001b[0m   Using cached typing_extensions-4.7.1-py3-none-any.whl.metadata (3.1 kB)\n",
      "\u001b[92m[prepare_app_env]\u001b[0m Collecting sympy (from torch==2.0.1->-r ./requirements.txt (line 2))\n",
      "\u001b[92m[prepare_app_env]\u001b[0m   Using cached sympy-1.12-py3-none-any.whl (5.7 MB)\n",
      "\u001b[92m[prepare_app_env]\u001b[0m Collecting networkx (from torch==2.0.1->-r ./requirements.txt (line 2))\n",
      "\u001b[92m[prepare_app_env]\u001b[0m   Using cached networkx-3.1-py3-none-any.whl (2.1 MB)\n",
      "\u001b[92m[prepare_app_env]\u001b[0m Collecting jinja2 (from torch==2.0.1->-r ./requirements.txt (line 2))\n",
      "\u001b[92m[prepare_app_env]\u001b[0m   Using cached Jinja2-3.1.2-py3-none-any.whl (133 kB)\n",
      "\u001b[92m[prepare_app_env]\u001b[0m Collecting pillow!=8.3.*,>=5.3.0 (from torchvision==0.15.2->-r ./requirements.txt (line 3))\n",
      "\u001b[92m[prepare_app_env]\u001b[0m   Obtaining dependency information for pillow!=8.3.*,>=5.3.0 from https://files.pythonhosted.org/packages/b7/ad/71982d18fd28ed1f93c31b8648f980ebdbdbcf7d8c9c9b4af59290914ce9/Pillow-10.0.0-cp311-cp311-macosx_11_0_arm64.whl.metadata\n",
      "\u001b[92m[prepare_app_env]\u001b[0m   Using cached Pillow-10.0.0-cp311-cp311-macosx_11_0_arm64.whl.metadata (9.5 kB)\n",
      "\u001b[92m[prepare_app_env]\u001b[0m Collecting botocore<1.32.0,>=1.31.33 (from boto3==1.28.33->-r ./requirements.txt (line 4))\n",
      "\u001b[92m[prepare_app_env]\u001b[0m   Obtaining dependency information for botocore<1.32.0,>=1.31.33 from https://files.pythonhosted.org/packages/ba/2e/8b3b13bcd625115c6d65b0bbfa3312d983ef4508391e3bb09f4887fb34f5/botocore-1.31.40-py3-none-any.whl.metadata\n",
      "\u001b[92m[prepare_app_env]\u001b[0m   Using cached botocore-1.31.40-py3-none-any.whl.metadata (6.0 kB)\n",
      "\u001b[92m[prepare_app_env]\u001b[0m Collecting jmespath<2.0.0,>=0.7.1 (from boto3==1.28.33->-r ./requirements.txt (line 4))\n",
      "\u001b[92m[prepare_app_env]\u001b[0m   Using cached jmespath-1.0.1-py3-none-any.whl (20 kB)\n",
      "\u001b[92m[prepare_app_env]\u001b[0m Collecting s3transfer<0.7.0,>=0.6.0 (from boto3==1.28.33->-r ./requirements.txt (line 4))\n",
      "\u001b[92m[prepare_app_env]\u001b[0m   Obtaining dependency information for s3transfer<0.7.0,>=0.6.0 from https://files.pythonhosted.org/packages/d9/17/a3b666f5ef9543cfd3c661d39d1e193abb9649d0cfbbfee3cf3b51d5af02/s3transfer-0.6.2-py3-none-any.whl.metadata\n",
      "\u001b[92m[prepare_app_env]\u001b[0m   Using cached s3transfer-0.6.2-py3-none-any.whl.metadata (1.8 kB)\n",
      "\u001b[92m[prepare_app_env]\u001b[0m Collecting absl-py>=0.4 (from tensorboard==2.14.0->-r ./requirements.txt (line 6))\n",
      "\u001b[92m[prepare_app_env]\u001b[0m   Using cached absl_py-1.4.0-py3-none-any.whl (126 kB)\n",
      "\u001b[92m[prepare_app_env]\u001b[0m Collecting grpcio>=1.48.2 (from tensorboard==2.14.0->-r ./requirements.txt (line 6))\n",
      "\u001b[92m[prepare_app_env]\u001b[0m   Obtaining dependency information for grpcio>=1.48.2 from https://files.pythonhosted.org/packages/7d/95/95040281591928aa8428737df2963b90f7a690d2d583484df81ac292e715/grpcio-1.57.0-cp311-cp311-macosx_10_10_universal2.whl.metadata\n",
      "\u001b[92m[prepare_app_env]\u001b[0m   Using cached grpcio-1.57.0-cp311-cp311-macosx_10_10_universal2.whl.metadata (4.0 kB)\n",
      "\u001b[92m[prepare_app_env]\u001b[0m Collecting google-auth<3,>=1.6.3 (from tensorboard==2.14.0->-r ./requirements.txt (line 6))\n",
      "\u001b[92m[prepare_app_env]\u001b[0m   Obtaining dependency information for google-auth<3,>=1.6.3 from https://files.pythonhosted.org/packages/9c/8d/bff87fc722553a5691d8514da5523c23547f3894189ba03b57592e37bdc2/google_auth-2.22.0-py2.py3-none-any.whl.metadata\n",
      "\u001b[92m[prepare_app_env]\u001b[0m   Using cached google_auth-2.22.0-py2.py3-none-any.whl.metadata (4.2 kB)\n",
      "\u001b[92m[prepare_app_env]\u001b[0m Collecting google-auth-oauthlib<1.1,>=0.5 (from tensorboard==2.14.0->-r ./requirements.txt (line 6))\n",
      "\u001b[92m[prepare_app_env]\u001b[0m   Using cached google_auth_oauthlib-1.0.0-py2.py3-none-any.whl (18 kB)\n",
      "\u001b[92m[prepare_app_env]\u001b[0m Collecting markdown>=2.6.8 (from tensorboard==2.14.0->-r ./requirements.txt (line 6))\n",
      "\u001b[92m[prepare_app_env]\u001b[0m   Obtaining dependency information for markdown>=2.6.8 from https://files.pythonhosted.org/packages/1a/b5/228c1cdcfe138f1a8e01ab1b54284c8b83735476cb22b6ba251656ed13ad/Markdown-3.4.4-py3-none-any.whl.metadata\n",
      "\u001b[92m[prepare_app_env]\u001b[0m   Using cached Markdown-3.4.4-py3-none-any.whl.metadata (6.9 kB)\n",
      "\u001b[92m[prepare_app_env]\u001b[0m Collecting protobuf>=3.19.6 (from tensorboard==2.14.0->-r ./requirements.txt (line 6))\n",
      "\u001b[92m[prepare_app_env]\u001b[0m   Obtaining dependency information for protobuf>=3.19.6 from https://files.pythonhosted.org/packages/ac/8f/a7e5dfc2d285526c74b82f118d5b4857875f39405aa1d6f1df56ef25a070/protobuf-4.24.2-cp37-abi3-macosx_10_9_universal2.whl.metadata\n",
      "\u001b[92m[prepare_app_env]\u001b[0m   Using cached protobuf-4.24.2-cp37-abi3-macosx_10_9_universal2.whl.metadata (540 bytes)\n",
      "\u001b[92m[prepare_app_env]\u001b[0m Requirement already satisfied: setuptools>=41.0.0 in /Users/jakub.svehla/Desktop/pytorch_parallel_training/apps/app_1/venv-app/lib/python3.11/site-packages (from tensorboard==2.14.0->-r ./requirements.txt (line 6)) (68.0.0)\n",
      "\u001b[92m[prepare_app_env]\u001b[0m Collecting tensorboard-data-server<0.8.0,>=0.7.0 (from tensorboard==2.14.0->-r ./requirements.txt (line 6))\n",
      "\u001b[92m[prepare_app_env]\u001b[0m   Obtaining dependency information for tensorboard-data-server<0.8.0,>=0.7.0 from https://files.pythonhosted.org/packages/da/61/6e9ff8258422d287eec718872fb71e05324356722ab658c8afda25f51539/tensorboard_data_server-0.7.1-py3-none-any.whl.metadata\n",
      "\u001b[92m[prepare_app_env]\u001b[0m   Using cached tensorboard_data_server-0.7.1-py3-none-any.whl.metadata (1.1 kB)\n",
      "\u001b[92m[prepare_app_env]\u001b[0m Collecting werkzeug>=1.0.1 (from tensorboard==2.14.0->-r ./requirements.txt (line 6))\n",
      "\u001b[92m[prepare_app_env]\u001b[0m   Obtaining dependency information for werkzeug>=1.0.1 from https://files.pythonhosted.org/packages/9b/59/a7c32e3d8d0e546a206e0552a2c04444544f15c1da4a01df8938d20c6ffc/werkzeug-2.3.7-py3-none-any.whl.metadata\n",
      "\u001b[92m[prepare_app_env]\u001b[0m   Using cached werkzeug-2.3.7-py3-none-any.whl.metadata (4.1 kB)\n",
      "\u001b[92m[prepare_app_env]\u001b[0m Collecting wheel>=0.26 (from tensorboard==2.14.0->-r ./requirements.txt (line 6))\n",
      "\u001b[92m[prepare_app_env]\u001b[0m   Obtaining dependency information for wheel>=0.26 from https://files.pythonhosted.org/packages/b8/8b/31273bf66016be6ad22bb7345c37ff350276cfd46e389a0c2ac5da9d9073/wheel-0.41.2-py3-none-any.whl.metadata\n",
      "\u001b[92m[prepare_app_env]\u001b[0m   Using cached wheel-0.41.2-py3-none-any.whl.metadata (2.2 kB)\n",
      "\u001b[92m[prepare_app_env]\u001b[0m Collecting python-dateutil<3.0.0,>=2.1 (from botocore<1.32.0,>=1.31.33->boto3==1.28.33->-r ./requirements.txt (line 4))\n",
      "\u001b[92m[prepare_app_env]\u001b[0m   Using cached python_dateutil-2.8.2-py2.py3-none-any.whl (247 kB)\n",
      "\u001b[92m[prepare_app_env]\u001b[0m Collecting urllib3<3,>=1.21.1 (from requests==2.31.0->-r ./requirements.txt (line 1))\n",
      "\u001b[92m[prepare_app_env]\u001b[0m   Obtaining dependency information for urllib3<3,>=1.21.1 from https://files.pythonhosted.org/packages/c5/05/c214b32d21c0b465506f95c4f28ccbcba15022e000b043b72b3df7728471/urllib3-1.26.16-py2.py3-none-any.whl.metadata\n",
      "\u001b[92m[prepare_app_env]\u001b[0m   Using cached urllib3-1.26.16-py2.py3-none-any.whl.metadata (48 kB)\n",
      "\u001b[92m[prepare_app_env]\u001b[0m Collecting cachetools<6.0,>=2.0.0 (from google-auth<3,>=1.6.3->tensorboard==2.14.0->-r ./requirements.txt (line 6))\n",
      "\u001b[92m[prepare_app_env]\u001b[0m   Obtaining dependency information for cachetools<6.0,>=2.0.0 from https://files.pythonhosted.org/packages/a9/c9/c8a7710f2cedcb1db9224fdd4d8307c9e48cbddc46c18b515fefc0f1abbe/cachetools-5.3.1-py3-none-any.whl.metadata\n",
      "\u001b[92m[prepare_app_env]\u001b[0m   Using cached cachetools-5.3.1-py3-none-any.whl.metadata (5.2 kB)\n",
      "\u001b[92m[prepare_app_env]\u001b[0m Collecting pyasn1-modules>=0.2.1 (from google-auth<3,>=1.6.3->tensorboard==2.14.0->-r ./requirements.txt (line 6))\n",
      "\u001b[92m[prepare_app_env]\u001b[0m   Using cached pyasn1_modules-0.3.0-py2.py3-none-any.whl (181 kB)\n",
      "\u001b[92m[prepare_app_env]\u001b[0m Collecting rsa<5,>=3.1.4 (from google-auth<3,>=1.6.3->tensorboard==2.14.0->-r ./requirements.txt (line 6))\n",
      "\u001b[92m[prepare_app_env]\u001b[0m   Using cached rsa-4.9-py3-none-any.whl (34 kB)\n",
      "\u001b[92m[prepare_app_env]\u001b[0m Collecting six>=1.9.0 (from google-auth<3,>=1.6.3->tensorboard==2.14.0->-r ./requirements.txt (line 6))\n",
      "\u001b[92m[prepare_app_env]\u001b[0m   Using cached six-1.16.0-py2.py3-none-any.whl (11 kB)\n",
      "\u001b[92m[prepare_app_env]\u001b[0m Collecting requests-oauthlib>=0.7.0 (from google-auth-oauthlib<1.1,>=0.5->tensorboard==2.14.0->-r ./requirements.txt (line 6))\n",
      "\u001b[92m[prepare_app_env]\u001b[0m   Using cached requests_oauthlib-1.3.1-py2.py3-none-any.whl (23 kB)\n",
      "\u001b[92m[prepare_app_env]\u001b[0m Collecting MarkupSafe>=2.1.1 (from werkzeug>=1.0.1->tensorboard==2.14.0->-r ./requirements.txt (line 6))\n",
      "\u001b[92m[prepare_app_env]\u001b[0m   Obtaining dependency information for MarkupSafe>=2.1.1 from https://files.pythonhosted.org/packages/fe/09/c31503cb8150cf688c1534a7135cc39bb9092f8e0e6369ec73494d16ee0e/MarkupSafe-2.1.3-cp311-cp311-macosx_10_9_universal2.whl.metadata\n",
      "\u001b[92m[prepare_app_env]\u001b[0m   Using cached MarkupSafe-2.1.3-cp311-cp311-macosx_10_9_universal2.whl.metadata (3.0 kB)\n",
      "\u001b[92m[prepare_app_env]\u001b[0m Collecting mpmath>=0.19 (from sympy->torch==2.0.1->-r ./requirements.txt (line 2))\n",
      "\u001b[92m[prepare_app_env]\u001b[0m   Using cached mpmath-1.3.0-py3-none-any.whl (536 kB)\n",
      "\u001b[92m[prepare_app_env]\u001b[0m Collecting pyasn1<0.6.0,>=0.4.6 (from pyasn1-modules>=0.2.1->google-auth<3,>=1.6.3->tensorboard==2.14.0->-r ./requirements.txt (line 6))\n",
      "\u001b[92m[prepare_app_env]\u001b[0m   Using cached pyasn1-0.5.0-py2.py3-none-any.whl (83 kB)\n",
      "\u001b[92m[prepare_app_env]\u001b[0m Collecting oauthlib>=3.0.0 (from requests-oauthlib>=0.7.0->google-auth-oauthlib<1.1,>=0.5->tensorboard==2.14.0->-r ./requirements.txt (line 6))\n",
      "\u001b[92m[prepare_app_env]\u001b[0m   Using cached oauthlib-3.2.2-py3-none-any.whl (151 kB)\n",
      "\u001b[92m[prepare_app_env]\u001b[0m Using cached requests-2.31.0-py3-none-any.whl (62 kB)\n",
      "\u001b[92m[prepare_app_env]\u001b[0m Using cached boto3-1.28.33-py3-none-any.whl (135 kB)\n",
      "\u001b[92m[prepare_app_env]\u001b[0m Using cached tensorboard-2.14.0-py3-none-any.whl (5.5 MB)\n",
      "\u001b[92m[prepare_app_env]\u001b[0m Using cached numpy-1.24.4-cp311-cp311-macosx_11_0_arm64.whl (13.8 MB)\n",
      "\u001b[92m[prepare_app_env]\u001b[0m Using cached botocore-1.31.40-py3-none-any.whl (11.2 MB)\n",
      "\u001b[92m[prepare_app_env]\u001b[0m Using cached certifi-2023.7.22-py3-none-any.whl (158 kB)\n",
      "\u001b[92m[prepare_app_env]\u001b[0m Using cached charset_normalizer-3.2.0-cp311-cp311-macosx_11_0_arm64.whl (122 kB)\n",
      "\u001b[92m[prepare_app_env]\u001b[0m Using cached google_auth-2.22.0-py2.py3-none-any.whl (181 kB)\n",
      "\u001b[92m[prepare_app_env]\u001b[0m Using cached grpcio-1.57.0-cp311-cp311-macosx_10_10_universal2.whl (9.0 MB)\n",
      "\u001b[92m[prepare_app_env]\u001b[0m Using cached Markdown-3.4.4-py3-none-any.whl (94 kB)\n",
      "\u001b[92m[prepare_app_env]\u001b[0m Using cached Pillow-10.0.0-cp311-cp311-macosx_11_0_arm64.whl (3.1 MB)\n",
      "\u001b[92m[prepare_app_env]\u001b[0m Using cached protobuf-4.24.2-cp37-abi3-macosx_10_9_universal2.whl (409 kB)\n",
      "\u001b[92m[prepare_app_env]\u001b[0m Using cached s3transfer-0.6.2-py3-none-any.whl (79 kB)\n",
      "\u001b[92m[prepare_app_env]\u001b[0m Using cached tensorboard_data_server-0.7.1-py3-none-any.whl (2.4 kB)\n",
      "\u001b[92m[prepare_app_env]\u001b[0m Using cached urllib3-1.26.16-py2.py3-none-any.whl (143 kB)\n",
      "\u001b[92m[prepare_app_env]\u001b[0m Using cached werkzeug-2.3.7-py3-none-any.whl (242 kB)\n",
      "\u001b[92m[prepare_app_env]\u001b[0m Using cached wheel-0.41.2-py3-none-any.whl (64 kB)\n",
      "\u001b[92m[prepare_app_env]\u001b[0m Using cached filelock-3.12.3-py3-none-any.whl (11 kB)\n",
      "\u001b[92m[prepare_app_env]\u001b[0m Using cached typing_extensions-4.7.1-py3-none-any.whl (33 kB)\n",
      "\u001b[92m[prepare_app_env]\u001b[0m Using cached cachetools-5.3.1-py3-none-any.whl (9.3 kB)\n",
      "\u001b[92m[prepare_app_env]\u001b[0m Using cached MarkupSafe-2.1.3-cp311-cp311-macosx_10_9_universal2.whl (17 kB)\n",
      "\u001b[92m[prepare_app_env]\u001b[0m Installing collected packages: mpmath, wheel, urllib3, typing-extensions, tensorboard-data-server, sympy, six, pyasn1, protobuf, pillow, oauthlib, numpy, networkx, MarkupSafe, markdown, jmespath, idna, grpcio, filelock, charset-normalizer, certifi, cachetools, absl-py, werkzeug, rsa, requests, python-dateutil, pyasn1-modules, jinja2, torch, requests-oauthlib, google-auth, botocore, torchvision, s3transfer, google-auth-oauthlib, tensorboard, boto3\n",
      "\u001b[92m[prepare_app_env]\u001b[0m Successfully installed MarkupSafe-2.1.3 absl-py-1.4.0 boto3-1.28.33 botocore-1.31.40 cachetools-5.3.1 certifi-2023.7.22 charset-normalizer-3.2.0 filelock-3.12.3 google-auth-2.22.0 google-auth-oauthlib-1.0.0 grpcio-1.57.0 idna-3.4 jinja2-3.1.2 jmespath-1.0.1 markdown-3.4.4 mpmath-1.3.0 networkx-3.1 numpy-1.24.4 oauthlib-3.2.2 pillow-10.0.0 protobuf-4.24.2 pyasn1-0.5.0 pyasn1-modules-0.3.0 python-dateutil-2.8.2 requests-2.31.0 requests-oauthlib-1.3.1 rsa-4.9 s3transfer-0.6.2 six-1.16.0 sympy-1.12 tensorboard-2.14.0 tensorboard-data-server-0.7.1 torch-2.0.1 torchvision-0.15.2 typing-extensions-4.7.1 urllib3-1.26.16 werkzeug-2.3.7 wheel-0.41.2\n"
     ]
    }
   ],
   "source": [
    "# !pip3 install -r ./app/requirements.txt\n",
    "!cd app && ./prepare_app_env.py"
   ]
  },
  {
   "cell_type": "code",
   "execution_count": 3,
   "metadata": {},
   "outputs": [
    {
     "name": "stdout",
     "output_type": "stream",
     "text": [
      "Downloading http://yann.lecun.com/exdb/mnist/train-images-idx3-ubyte.gz\n",
      "Downloading http://yann.lecun.com/exdb/mnist/train-images-idx3-ubyte.gz to ./temp/train_datasets/mnist/MNIST/raw/train-images-idx3-ubyte.gz\n"
     ]
    },
    {
     "name": "stderr",
     "output_type": "stream",
     "text": [
      "100.0%\n"
     ]
    },
    {
     "name": "stdout",
     "output_type": "stream",
     "text": [
      "Extracting ./temp/train_datasets/mnist/MNIST/raw/train-images-idx3-ubyte.gz to ./temp/train_datasets/mnist/MNIST/raw\n",
      "\n",
      "Downloading http://yann.lecun.com/exdb/mnist/train-labels-idx1-ubyte.gz\n"
     ]
    },
    {
     "name": "stderr",
     "output_type": "stream",
     "text": [
      "100.0%"
     ]
    },
    {
     "name": "stdout",
     "output_type": "stream",
     "text": [
      "Downloading http://yann.lecun.com/exdb/mnist/train-labels-idx1-ubyte.gz to ./temp/train_datasets/mnist/MNIST/raw/train-labels-idx1-ubyte.gz\n",
      "Extracting ./temp/train_datasets/mnist/MNIST/raw/train-labels-idx1-ubyte.gz to ./temp/train_datasets/mnist/MNIST/raw\n",
      "\n",
      "Downloading http://yann.lecun.com/exdb/mnist/t10k-images-idx3-ubyte.gz\n"
     ]
    },
    {
     "name": "stderr",
     "output_type": "stream",
     "text": [
      "\n",
      "13.9%"
     ]
    },
    {
     "name": "stdout",
     "output_type": "stream",
     "text": [
      "Downloading http://yann.lecun.com/exdb/mnist/t10k-images-idx3-ubyte.gz to ./temp/train_datasets/mnist/MNIST/raw/t10k-images-idx3-ubyte.gz\n"
     ]
    },
    {
     "name": "stderr",
     "output_type": "stream",
     "text": [
      "100.0%\n"
     ]
    },
    {
     "name": "stdout",
     "output_type": "stream",
     "text": [
      "Extracting ./temp/train_datasets/mnist/MNIST/raw/t10k-images-idx3-ubyte.gz to ./temp/train_datasets/mnist/MNIST/raw\n",
      "\n",
      "Downloading http://yann.lecun.com/exdb/mnist/t10k-labels-idx1-ubyte.gz\n"
     ]
    },
    {
     "name": "stderr",
     "output_type": "stream",
     "text": [
      "100.0%"
     ]
    },
    {
     "name": "stdout",
     "output_type": "stream",
     "text": [
      "Downloading http://yann.lecun.com/exdb/mnist/t10k-labels-idx1-ubyte.gz to ./temp/train_datasets/mnist/MNIST/raw/t10k-labels-idx1-ubyte.gz\n",
      "Extracting ./temp/train_datasets/mnist/MNIST/raw/t10k-labels-idx1-ubyte.gz to ./temp/train_datasets/mnist/MNIST/raw\n",
      "\n",
      "dataset is downloaded and has 60000 items\n"
     ]
    },
    {
     "name": "stderr",
     "output_type": "stream",
     "text": [
      "\n"
     ]
    }
   ],
   "source": [
    "# 1. prepare dataset\n",
    "from app.ml_model.src.download_multinode_dataset import download_dataset\n",
    "\n",
    "dataset_path = './temp/train_datasets/mnist'\n",
    "download_dataset(dataset_path)"
   ]
  },
  {
   "cell_type": "code",
   "execution_count": 19,
   "metadata": {},
   "outputs": [
    {
     "name": "stdout",
     "output_type": "stream",
     "text": [
      "NOTE: Redirects are currently not supported in Windows or MacOs.\n",
      "master_addr is only used for static rdzv_backend and when rdzv_endpoint is not specified.\n",
      "\u001b[94m[GR:0LR:0]\u001b[0m is_main_log_node True\n",
      "\u001b[94m[GR:0LR:0]\u001b[0m device: cpu\n",
      "[W socket.cpp:601] [c10d] The IPv6 network addresses of (1.0.0.127.in-addr.arpa, 56653) cannot be retrieved (gai error: 8 - nodename nor servname provided, or not known).\n",
      "[W socket.cpp:601] [c10d] The IPv6 network addresses of (1.0.0.127.in-addr.arpa, 56653) cannot be retrieved (gai error: 8 - nodename nor servname provided, or not known).\n",
      "[W socket.cpp:601] [c10d] The IPv6 network addresses of (1.0.0.127.in-addr.arpa, 56653) cannot be retrieved (gai error: 8 - nodename nor servname provided, or not known).\n",
      "[W socket.cpp:601] [c10d] The IPv6 network addresses of (1.0.0.127.in-addr.arpa, 56653) cannot be retrieved (gai error: 8 - nodename nor servname provided, or not known).\n",
      "[W socket.cpp:601] [c10d] The IPv6 network addresses of (1.0.0.127.in-addr.arpa, 56653) cannot be retrieved (gai error: 8 - nodename nor servname provided, or not known).\n",
      "[W socket.cpp:601] [c10d] The IPv6 network addresses of (1.0.0.127.in-addr.arpa, 56653) cannot be retrieved (gai error: 8 - nodename nor servname provided, or not known).\n",
      "[W socket.cpp:601] [c10d] The IPv6 network addresses of (1.0.0.127.in-addr.arpa, 56653) cannot be retrieved (gai error: 8 - nodename nor servname provided, or not known).\n",
      "[W socket.cpp:601] [c10d] The IPv6 network addresses of (1.0.0.127.in-addr.arpa, 56653) cannot be retrieved (gai error: 8 - nodename nor servname provided, or not known).\n",
      "[W socket.cpp:601] [c10d] The IPv6 network addresses of (1.0.0.127.in-addr.arpa, 56653) cannot be retrieved (gai error: 8 - nodename nor servname provided, or not known).\n",
      "[W socket.cpp:601] [c10d] The IPv6 network addresses of (1.0.0.127.in-addr.arpa, 56653) cannot be retrieved (gai error: 8 - nodename nor servname provided, or not known).\n",
      "[W socket.cpp:601] [c10d] The IPv6 network addresses of (1.0.0.127.in-addr.arpa, 56653) cannot be retrieved (gai error: 8 - nodename nor servname provided, or not known).\n",
      "[W socket.cpp:601] [c10d] The IPv6 network addresses of (1.0.0.127.in-addr.arpa, 56653) cannot be retrieved (gai error: 8 - nodename nor servname provided, or not known).\n",
      "[W socket.cpp:601] [c10d] The IPv6 network addresses of (1.0.0.127.in-addr.arpa, 56653) cannot be retrieved (gai error: 8 - nodename nor servname provided, or not known).\n",
      "[W socket.cpp:601] [c10d] The IPv6 network addresses of (1.0.0.127.in-addr.arpa, 56653) cannot be retrieved (gai error: 8 - nodename nor servname provided, or not known).\n",
      "^C\n",
      "WARNING:torch.distributed.elastic.agent.server.api:Received 2 death signal, shutting down workers\n",
      "WARNING:torch.distributed.elastic.multiprocessing.api:Sending process 86412 closing signal SIGINT\n",
      "object address  : 0x100618160\n",
      "object refcount : 2\n",
      "object type     : 0x100c19c80\n",
      "object type name: RuntimeError\n",
      "object repr     : RuntimeError('Interrupted system call')\n",
      "lost sys.stderr\n"
     ]
    }
   ],
   "source": [
    "\n",
    "# TODO: create temp if not exists???\n",
    "# throws errors:\n",
    "# W socket.cpp:601] [c10d] The IPv6 network addresses of (Jakubs-MacBook-Pro.local, 57625) cannot be retrieved (gai error: 8 - nodename nor servname provided, or not known).\n",
    "# [W socket.cpp:601] [c10d] The IPv6 network addresses of (Jakubs.....\n",
    "\n",
    "# 2. run Trainer class via torchrun on my localhost machine\n",
    "# force  IPv4\n",
    "!GLOO_SOCKET_IFNAME=eth0 GLOO_SOCKET_FORCE_IPV4=1 torchrun --standalone \\\n",
    "    ./app/ml_model/src/main_mnist_multinode.py \\\n",
    "    --total_epochs 5 \\\n",
    "    --save_every 5 \\\n",
    "    --experiment_name xxxx \\\n",
    "    --dataset_path {dataset_path} \\\n",
    "    --snapshots_dir ../temp/snapshots"
   ]
  },
  {
   "cell_type": "code",
   "execution_count": 8,
   "metadata": {},
   "outputs": [
    {
     "name": "stdout",
     "output_type": "stream",
     "text": [
      "\u001b[94m[GR:0LR:0]\u001b[0m is_main_log_node True\n",
      "\u001b[94m[GR:0LR:0]\u001b[0m device: cpu\n",
      "Traceback (most recent call last):\n",
      "  File \"/Users/jakub.svehla/Desktop/pytorch_parallel_training/apps/app_1/./app/ml_model/src/main_mnist_multinode.py\", line 266, in <module>\n",
      "    main(args.save_every, args.total_epochs, args.batch_size, snapshot_path)\n",
      "  File \"/Users/jakub.svehla/Desktop/pytorch_parallel_training/apps/app_1/./app/ml_model/src/main_mnist_multinode.py\", line 225, in main\n",
      "    ddp_setup()\n",
      "  File \"/Users/jakub.svehla/Desktop/pytorch_parallel_training/apps/app_1/./app/ml_model/src/main_mnist_multinode.py\", line 220, in ddp_setup\n",
      "    init_process_group(backend=\"gloo\")\n",
      "  File \"/Users/jakub.svehla/Desktop/pytorch_parallel_training/.venv/lib/python3.11/site-packages/torch/distributed/distributed_c10d.py\", line 900, in init_process_group\n",
      "    store, rank, world_size = next(rendezvous_iterator)\n",
      "                              ^^^^^^^^^^^^^^^^^^^^^^^^^\n",
      "  File \"/Users/jakub.svehla/Desktop/pytorch_parallel_training/.venv/lib/python3.11/site-packages/torch/distributed/rendezvous.py\", line 240, in _env_rendezvous_handler\n",
      "    world_size = int(_get_env_or_raise(\"WORLD_SIZE\"))\n",
      "                     ^^^^^^^^^^^^^^^^^^^^^^^^^^^^^^^\n",
      "  File \"/Users/jakub.svehla/Desktop/pytorch_parallel_training/.venv/lib/python3.11/site-packages/torch/distributed/rendezvous.py\", line 220, in _get_env_or_raise\n",
      "    raise _env_error(env_var)\n",
      "ValueError: Error initializing torch.distributed using env:// rendezvous: environment variable WORLD_SIZE expected, but not set\n"
     ]
    }
   ],
   "source": [
    "\n",
    "# NOT WORKING as well...\n",
    "# # TODO: add support for local development? somehow\n",
    "# !LOCAL_RANK=0 RANK=0 python ./app/ml_model/src/main_mnist_multinode.py \\\n",
    "# --total_epochs 5 \\\n",
    "# --save_every 5 \\\n",
    "# --experiment_name xxxx \\\n",
    "# --dataset_path {dataset_path} \\\n",
    "# --snapshots_dir ../temp/snapshots"
   ]
  },
  {
   "cell_type": "code",
   "execution_count": null,
   "metadata": {},
   "outputs": [],
   "source": []
  }
 ],
 "metadata": {
  "kernelspec": {
   "display_name": "pytorch_parallel_training",
   "language": "python",
   "name": "python3"
  },
  "language_info": {
   "codemirror_mode": {
    "name": "ipython",
    "version": 3
   },
   "file_extension": ".py",
   "mimetype": "text/x-python",
   "name": "python",
   "nbconvert_exporter": "python",
   "pygments_lexer": "ipython3",
   "version": "3.11.4"
  },
  "orig_nbformat": 4
 },
 "nbformat": 4,
 "nbformat_minor": 2
}
