{
 "cells": [
  {
   "cell_type": "markdown",
   "metadata": {},
   "source": [
    "1. Local development \n",
    "2. move into GPU EC2 node\n",
    "3. Add DDP"
   ]
  },
  {
   "cell_type": "code",
   "execution_count": 1,
   "metadata": {},
   "outputs": [],
   "source": [
    "# TODO: activate venv somehow\n",
    "# enable importing python files without caching them\n",
    "%load_ext autoreload\n",
    "%autoreload 2"
   ]
  },
  {
   "cell_type": "code",
   "execution_count": 2,
   "metadata": {},
   "outputs": [
    {
     "name": "stdout",
     "output_type": "stream",
     "text": [
      "Requirement already satisfied: requests==2.31.0 in /Users/jakub.svehla/anaconda3/envs/pytorch_parallel_training/lib/python3.11/site-packages (from -r requirements.txt (line 1)) (2.31.0)\n",
      "Requirement already satisfied: torch==2.0.1 in /Users/jakub.svehla/anaconda3/envs/pytorch_parallel_training/lib/python3.11/site-packages (from -r requirements.txt (line 2)) (2.0.1)\n",
      "Requirement already satisfied: torchvision==0.15.2 in /Users/jakub.svehla/anaconda3/envs/pytorch_parallel_training/lib/python3.11/site-packages (from -r requirements.txt (line 3)) (0.15.2)\n",
      "Requirement already satisfied: boto3==1.28.33 in /Users/jakub.svehla/anaconda3/envs/pytorch_parallel_training/lib/python3.11/site-packages (from -r requirements.txt (line 4)) (1.28.33)\n",
      "Requirement already satisfied: tensorboard==2.14.0 in /Users/jakub.svehla/anaconda3/envs/pytorch_parallel_training/lib/python3.11/site-packages (from -r requirements.txt (line 6)) (2.14.0)\n",
      "Requirement already satisfied: numpy==1.24.4 in /Users/jakub.svehla/anaconda3/envs/pytorch_parallel_training/lib/python3.11/site-packages (from -r requirements.txt (line 7)) (1.24.4)\n",
      "Requirement already satisfied: charset-normalizer<4,>=2 in /Users/jakub.svehla/anaconda3/envs/pytorch_parallel_training/lib/python3.11/site-packages (from requests==2.31.0->-r requirements.txt (line 1)) (2.0.4)\n",
      "Requirement already satisfied: idna<4,>=2.5 in /Users/jakub.svehla/anaconda3/envs/pytorch_parallel_training/lib/python3.11/site-packages (from requests==2.31.0->-r requirements.txt (line 1)) (3.4)\n",
      "Requirement already satisfied: urllib3<3,>=1.21.1 in /Users/jakub.svehla/anaconda3/envs/pytorch_parallel_training/lib/python3.11/site-packages (from requests==2.31.0->-r requirements.txt (line 1)) (1.26.15)\n",
      "Requirement already satisfied: certifi>=2017.4.17 in /Users/jakub.svehla/anaconda3/envs/pytorch_parallel_training/lib/python3.11/site-packages (from requests==2.31.0->-r requirements.txt (line 1)) (2023.5.7)\n",
      "Requirement already satisfied: filelock in /Users/jakub.svehla/anaconda3/envs/pytorch_parallel_training/lib/python3.11/site-packages (from torch==2.0.1->-r requirements.txt (line 2)) (3.9.0)\n",
      "Requirement already satisfied: typing-extensions in /Users/jakub.svehla/anaconda3/envs/pytorch_parallel_training/lib/python3.11/site-packages (from torch==2.0.1->-r requirements.txt (line 2)) (4.5.0)\n",
      "Requirement already satisfied: sympy in /Users/jakub.svehla/anaconda3/envs/pytorch_parallel_training/lib/python3.11/site-packages (from torch==2.0.1->-r requirements.txt (line 2)) (1.11.1)\n",
      "Requirement already satisfied: networkx in /Users/jakub.svehla/anaconda3/envs/pytorch_parallel_training/lib/python3.11/site-packages (from torch==2.0.1->-r requirements.txt (line 2)) (2.8.4)\n",
      "Requirement already satisfied: jinja2 in /Users/jakub.svehla/anaconda3/envs/pytorch_parallel_training/lib/python3.11/site-packages (from torch==2.0.1->-r requirements.txt (line 2)) (3.1.2)\n",
      "Requirement already satisfied: pillow!=8.3.*,>=5.3.0 in /Users/jakub.svehla/anaconda3/envs/pytorch_parallel_training/lib/python3.11/site-packages (from torchvision==0.15.2->-r requirements.txt (line 3)) (9.4.0)\n",
      "Requirement already satisfied: botocore<1.32.0,>=1.31.33 in /Users/jakub.svehla/anaconda3/envs/pytorch_parallel_training/lib/python3.11/site-packages (from boto3==1.28.33->-r requirements.txt (line 4)) (1.31.36)\n",
      "Requirement already satisfied: jmespath<2.0.0,>=0.7.1 in /Users/jakub.svehla/anaconda3/envs/pytorch_parallel_training/lib/python3.11/site-packages (from boto3==1.28.33->-r requirements.txt (line 4)) (1.0.1)\n",
      "Requirement already satisfied: s3transfer<0.7.0,>=0.6.0 in /Users/jakub.svehla/anaconda3/envs/pytorch_parallel_training/lib/python3.11/site-packages (from boto3==1.28.33->-r requirements.txt (line 4)) (0.6.2)\n",
      "Requirement already satisfied: absl-py>=0.4 in /Users/jakub.svehla/anaconda3/envs/pytorch_parallel_training/lib/python3.11/site-packages (from tensorboard==2.14.0->-r requirements.txt (line 6)) (1.4.0)\n",
      "Requirement already satisfied: grpcio>=1.48.2 in /Users/jakub.svehla/anaconda3/envs/pytorch_parallel_training/lib/python3.11/site-packages (from tensorboard==2.14.0->-r requirements.txt (line 6)) (1.57.0)\n",
      "Requirement already satisfied: google-auth<3,>=1.6.3 in /Users/jakub.svehla/anaconda3/envs/pytorch_parallel_training/lib/python3.11/site-packages (from tensorboard==2.14.0->-r requirements.txt (line 6)) (2.22.0)\n",
      "Requirement already satisfied: google-auth-oauthlib<1.1,>=0.5 in /Users/jakub.svehla/anaconda3/envs/pytorch_parallel_training/lib/python3.11/site-packages (from tensorboard==2.14.0->-r requirements.txt (line 6)) (1.0.0)\n",
      "Requirement already satisfied: markdown>=2.6.8 in /Users/jakub.svehla/anaconda3/envs/pytorch_parallel_training/lib/python3.11/site-packages (from tensorboard==2.14.0->-r requirements.txt (line 6)) (3.4.4)\n",
      "Requirement already satisfied: protobuf>=3.19.6 in /Users/jakub.svehla/anaconda3/envs/pytorch_parallel_training/lib/python3.11/site-packages (from tensorboard==2.14.0->-r requirements.txt (line 6)) (4.24.2)\n",
      "Requirement already satisfied: setuptools>=41.0.0 in /Users/jakub.svehla/anaconda3/envs/pytorch_parallel_training/lib/python3.11/site-packages (from tensorboard==2.14.0->-r requirements.txt (line 6)) (67.8.0)\n",
      "Requirement already satisfied: tensorboard-data-server<0.8.0,>=0.7.0 in /Users/jakub.svehla/anaconda3/envs/pytorch_parallel_training/lib/python3.11/site-packages (from tensorboard==2.14.0->-r requirements.txt (line 6)) (0.7.1)\n",
      "Requirement already satisfied: werkzeug>=1.0.1 in /Users/jakub.svehla/anaconda3/envs/pytorch_parallel_training/lib/python3.11/site-packages (from tensorboard==2.14.0->-r requirements.txt (line 6)) (2.3.7)\n",
      "Requirement already satisfied: wheel>=0.26 in /Users/jakub.svehla/anaconda3/envs/pytorch_parallel_training/lib/python3.11/site-packages (from tensorboard==2.14.0->-r requirements.txt (line 6)) (0.38.4)\n",
      "Requirement already satisfied: python-dateutil<3.0.0,>=2.1 in /Users/jakub.svehla/anaconda3/envs/pytorch_parallel_training/lib/python3.11/site-packages (from botocore<1.32.0,>=1.31.33->boto3==1.28.33->-r requirements.txt (line 4)) (2.8.2)\n",
      "Requirement already satisfied: cachetools<6.0,>=2.0.0 in /Users/jakub.svehla/anaconda3/envs/pytorch_parallel_training/lib/python3.11/site-packages (from google-auth<3,>=1.6.3->tensorboard==2.14.0->-r requirements.txt (line 6)) (5.3.1)\n",
      "Requirement already satisfied: pyasn1-modules>=0.2.1 in /Users/jakub.svehla/anaconda3/envs/pytorch_parallel_training/lib/python3.11/site-packages (from google-auth<3,>=1.6.3->tensorboard==2.14.0->-r requirements.txt (line 6)) (0.3.0)\n",
      "Requirement already satisfied: rsa<5,>=3.1.4 in /Users/jakub.svehla/anaconda3/envs/pytorch_parallel_training/lib/python3.11/site-packages (from google-auth<3,>=1.6.3->tensorboard==2.14.0->-r requirements.txt (line 6)) (4.9)\n",
      "Requirement already satisfied: six>=1.9.0 in /Users/jakub.svehla/anaconda3/envs/pytorch_parallel_training/lib/python3.11/site-packages (from google-auth<3,>=1.6.3->tensorboard==2.14.0->-r requirements.txt (line 6)) (1.16.0)\n",
      "Requirement already satisfied: requests-oauthlib>=0.7.0 in /Users/jakub.svehla/anaconda3/envs/pytorch_parallel_training/lib/python3.11/site-packages (from google-auth-oauthlib<1.1,>=0.5->tensorboard==2.14.0->-r requirements.txt (line 6)) (1.3.1)\n",
      "Requirement already satisfied: MarkupSafe>=2.1.1 in /Users/jakub.svehla/anaconda3/envs/pytorch_parallel_training/lib/python3.11/site-packages (from werkzeug>=1.0.1->tensorboard==2.14.0->-r requirements.txt (line 6)) (2.1.1)\n",
      "Requirement already satisfied: mpmath>=0.19 in /Users/jakub.svehla/anaconda3/envs/pytorch_parallel_training/lib/python3.11/site-packages (from sympy->torch==2.0.1->-r requirements.txt (line 2)) (1.2.1)\n",
      "Requirement already satisfied: pyasn1<0.6.0,>=0.4.6 in /Users/jakub.svehla/anaconda3/envs/pytorch_parallel_training/lib/python3.11/site-packages (from pyasn1-modules>=0.2.1->google-auth<3,>=1.6.3->tensorboard==2.14.0->-r requirements.txt (line 6)) (0.5.0)\n",
      "Requirement already satisfied: oauthlib>=3.0.0 in /Users/jakub.svehla/anaconda3/envs/pytorch_parallel_training/lib/python3.11/site-packages (from requests-oauthlib>=0.7.0->google-auth-oauthlib<1.1,>=0.5->tensorboard==2.14.0->-r requirements.txt (line 6)) (3.2.2)\n"
     ]
    }
   ],
   "source": [
    "!pip3 install -r requirements.txt"
   ]
  },
  {
   "cell_type": "code",
   "execution_count": 13,
   "metadata": {},
   "outputs": [
    {
     "name": "stdout",
     "output_type": "stream",
     "text": [
      "\u001b[91mahoj\u001b[0m\n"
     ]
    }
   ],
   "source": [
    "# 1. prepare dataset\n",
    "from src.download_multinode_dataset import download_dataset\n",
    "\n",
    "dataset_path = '../temp/train_datasets/mnist'\n",
    "download_dataset(dataset_path)"
   ]
  },
  {
   "cell_type": "code",
   "execution_count": 19,
   "metadata": {},
   "outputs": [
    {
     "name": "stdout",
     "output_type": "stream",
     "text": [
      "NOTE: Redirects are currently not supported in Windows or MacOs.\n",
      "master_addr is only used for static rdzv_backend and when rdzv_endpoint is not specified.\n",
      "\u001b[94m[GR:0LR:0]\u001b[0m is_main_log_node True\n",
      "\u001b[94m[GR:0LR:0]\u001b[0m device: cpu\n",
      "\u001b[94m[GR:0LR:0]\u001b[0m <function get_trainset at 0x14243cea0>\n",
      "[W socket.cpp:601] [c10d] The IPv6 network addresses of (Jakubs-MacBook-Pro.local, 57625) cannot be retrieved (gai error: 8 - nodename nor servname provided, or not known).\n",
      "[W socket.cpp:601] [c10d] The IPv6 network addresses of (Jakubs-MacBook-Pro.local, 57625) cannot be retrieved (gai error: 8 - nodename nor servname provided, or not known).\n",
      "[W socket.cpp:601] [c10d] The IPv6 network addresses of (Jakubs-MacBook-Pro.local, 57625) cannot be retrieved (gai error: 8 - nodename nor servname provided, or not known).\n",
      "[W socket.cpp:601] [c10d] The IPv6 network addresses of (Jakubs-MacBook-Pro.local, 57625) cannot be retrieved (gai error: 8 - nodename nor servname provided, or not known).\n",
      "[W socket.cpp:601] [c10d] The IPv6 network addresses of (Jakubs-MacBook-Pro.local, 57625) cannot be retrieved (gai error: 8 - nodename nor servname provided, or not known).\n",
      "[W socket.cpp:601] [c10d] The IPv6 network addresses of (Jakubs-MacBook-Pro.local, 57625) cannot be retrieved (gai error: 8 - nodename nor servname provided, or not known).\n",
      "[W socket.cpp:601] [c10d] The IPv6 network addresses of (Jakubs-MacBook-Pro.local, 57625) cannot be retrieved (gai error: 8 - nodename nor servname provided, or not known).\n",
      "[W socket.cpp:601] [c10d] The IPv6 network addresses of (Jakubs-MacBook-Pro.local, 57625) cannot be retrieved (gai error: 8 - nodename nor servname provided, or not known).\n",
      "[W socket.cpp:601] [c10d] The IPv6 network addresses of (Jakubs-MacBook-Pro.local, 57625) cannot be retrieved (gai error: 8 - nodename nor servname provided, or not known).\n",
      "[W socket.cpp:601] [c10d] The IPv6 network addresses of (Jakubs-MacBook-Pro.local, 57625) cannot be retrieved (gai error: 8 - nodename nor servname provided, or not known).\n",
      "[W socket.cpp:601] [c10d] The IPv6 network addresses of (Jakubs-MacBook-Pro.local, 57625) cannot be retrieved (gai error: 8 - nodename nor servname provided, or not known).\n",
      "[W socket.cpp:601] [c10d] The IPv6 network addresses of (Jakubs-MacBook-Pro.local, 57625) cannot be retrieved (gai error: 8 - nodename nor servname provided, or not known).\n",
      "[W socket.cpp:601] [c10d] The IPv6 network addresses of (Jakubs-MacBook-Pro.local, 57625) cannot be retrieved (gai error: 8 - nodename nor servname provided, or not known).\n",
      "[W socket.cpp:601] [c10d] The IPv6 network addresses of (Jakubs-MacBook-Pro.local, 57625) cannot be retrieved (gai error: 8 - nodename nor servname provided, or not known).\n",
      "[W socket.cpp:601] [c10d] The IPv6 network addresses of (Jakubs-MacBook-Pro.local, 57625) cannot be retrieved (gai error: 8 - nodename nor servname provided, or not known).\n",
      "[W socket.cpp:601] [c10d] The IPv6 network addresses of (Jakubs-MacBook-Pro.local, 57625) cannot be retrieved (gai error: 8 - nodename nor servname provided, or not known).\n",
      "[W socket.cpp:601] [c10d] The IPv6 network addresses of (Jakubs-MacBook-Pro.local, 57625) cannot be retrieved (gai error: 8 - nodename nor servname provided, or not known).\n",
      "[W socket.cpp:601] [c10d] The IPv6 network addresses of (Jakubs-MacBook-Pro.local, 57625) cannot be retrieved (gai error: 8 - nodename nor servname provided, or not known).\n",
      "[W socket.cpp:601] [c10d] The IPv6 network addresses of (Jakubs-MacBook-Pro.local, 57625) cannot be retrieved (gai error: 8 - nodename nor servname provided, or not known).\n",
      "[W socket.cpp:601] [c10d] The IPv6 network addresses of (Jakubs-MacBook-Pro.local, 57625) cannot be retrieved (gai error: 8 - nodename nor servname provided, or not known).\n",
      "[W socket.cpp:601] [c10d] The IPv6 network addresses of (Jakubs-MacBook-Pro.local, 57625) cannot be retrieved (gai error: 8 - nodename nor servname provided, or not known).\n",
      "[W socket.cpp:601] [c10d] The IPv6 network addresses of (Jakubs-MacBook-Pro.local, 57625) cannot be retrieved (gai error: 8 - nodename nor servname provided, or not known).\n",
      "[W socket.cpp:601] [c10d] The IPv6 network addresses of (Jakubs-MacBook-Pro.local, 57625) cannot be retrieved (gai error: 8 - nodename nor servname provided, or not known).\n",
      "[W socket.cpp:601] [c10d] The IPv6 network addresses of (Jakubs-MacBook-Pro.local, 57625) cannot be retrieved (gai error: 8 - nodename nor servname provided, or not known).\n",
      "[W socket.cpp:601] [c10d] The IPv6 network addresses of (Jakubs-MacBook-Pro.local, 57625) cannot be retrieved (gai error: 8 - nodename nor servname provided, or not known).\n",
      "[W socket.cpp:601] [c10d] The IPv6 network addresses of (Jakubs-MacBook-Pro.local, 57625) cannot be retrieved (gai error: 8 - nodename nor servname provided, or not known).\n",
      "[W socket.cpp:601] [c10d] The IPv6 network addresses of (Jakubs-MacBook-Pro.local, 57625) cannot be retrieved (gai error: 8 - nodename nor servname provided, or not known).\n",
      "[W socket.cpp:601] [c10d] The IPv6 network addresses of (Jakubs-MacBook-Pro.local, 57625) cannot be retrieved (gai error: 8 - nodename nor servname provided, or not known).\n",
      "[W socket.cpp:601] [c10d] The IPv6 network addresses of (Jakubs-MacBook-Pro.local, 57625) cannot be retrieved (gai error: 8 - nodename nor servname provided, or not known).\n",
      "[W socket.cpp:601] [c10d] The IPv6 network addresses of (Jakubs-MacBook-Pro.local, 57625) cannot be retrieved (gai error: 8 - nodename nor servname provided, or not known).\n",
      "[W socket.cpp:601] [c10d] The IPv6 network addresses of (Jakubs-MacBook-Pro.local, 57625) cannot be retrieved (gai error: 8 - nodename nor servname provided, or not known).\n",
      "[W socket.cpp:601] [c10d] The IPv6 network addresses of (Jakubs-MacBook-Pro.local, 57625) cannot be retrieved (gai error: 8 - nodename nor servname provided, or not known).\n",
      "[W socket.cpp:601] [c10d] The IPv6 network addresses of (Jakubs-MacBook-Pro.local, 57625) cannot be retrieved (gai error: 8 - nodename nor servname provided, or not known).\n",
      "[W socket.cpp:601] [c10d] The IPv6 network addresses of (Jakubs-MacBook-Pro.local, 57625) cannot be retrieved (gai error: 8 - nodename nor servname provided, or not known).\n",
      "[W socket.cpp:601] [c10d] The IPv6 network addresses of (Jakubs-MacBook-Pro.local, 57625) cannot be retrieved (gai error: 8 - nodename nor servname provided, or not known).\n",
      "[W socket.cpp:601] [c10d] The IPv6 network addresses of (Jakubs-MacBook-Pro.local, 57625) cannot be retrieved (gai error: 8 - nodename nor servname provided, or not known).\n",
      "[W socket.cpp:601] [c10d] The IPv6 network addresses of (Jakubs-MacBook-Pro.local, 57625) cannot be retrieved (gai error: 8 - nodename nor servname provided, or not known).\n",
      "[W socket.cpp:601] [c10d] The IPv6 network addresses of (Jakubs-MacBook-Pro.local, 57625) cannot be retrieved (gai error: 8 - nodename nor servname provided, or not known).\n",
      "[W socket.cpp:601] [c10d] The IPv6 network addresses of (Jakubs-MacBook-Pro.local, 57625) cannot be retrieved (gai error: 8 - nodename nor servname provided, or not known).\n",
      "^C\n",
      "WARNING:torch.distributed.elastic.agent.server.api:Received 2 death signal, shutting down workers\n",
      "WARNING:torch.distributed.elastic.multiprocessing.api:Sending process 3860 closing signal SIGINT\n"
     ]
    }
   ],
   "source": [
    "\n",
    "# TODO: create temp if not exists???\n",
    "# throws errors:\n",
    "# W socket.cpp:601] [c10d] The IPv6 network addresses of (Jakubs-MacBook-Pro.local, 57625) cannot be retrieved (gai error: 8 - nodename nor servname provided, or not known).\n",
    "# [W socket.cpp:601] [c10d] The IPv6 network addresses of (Jakubs-MacBook-Pro.local, 57625) cannot be retrieved (gai error: 8 - nodename nor servname provided, or not known).\n",
    "# [W socket.cpp:601] [c10d] The IPv6 network addresses of (Jakubs-MacBook-Pro.local, 57625) cannot be retrieved (gai error: 8 - nodename nor servname provided, or not known).\n",
    "\n",
    "# 2. run Trainer class via torchrun on my localhost machine\n",
    "!torchrun --standalone \\\n",
    "    ./src/main_mnist_multinode.py \\\n",
    "    --total_epochs 5 \\\n",
    "    --save_every 5 \\\n",
    "    --experiment_name xxxx \\\n",
    "    --dataset_path {dataset_path} \\\n",
    "    --snapshots_dir ../temp/snapshots"
   ]
  },
  {
   "cell_type": "code",
   "execution_count": null,
   "metadata": {},
   "outputs": [],
   "source": []
  }
 ],
 "metadata": {
  "kernelspec": {
   "display_name": "pytorch_parallel_training",
   "language": "python",
   "name": "python3"
  },
  "language_info": {
   "codemirror_mode": {
    "name": "ipython",
    "version": 3
   },
   "file_extension": ".py",
   "mimetype": "text/x-python",
   "name": "python",
   "nbconvert_exporter": "python",
   "pygments_lexer": "ipython3",
   "version": "3.11.3"
  },
  "orig_nbformat": 4
 },
 "nbformat": 4,
 "nbformat_minor": 2
}
